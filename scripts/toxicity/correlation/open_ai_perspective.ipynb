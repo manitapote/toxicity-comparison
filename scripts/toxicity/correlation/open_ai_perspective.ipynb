{
 "cells": [
  {
   "cell_type": "markdown",
   "id": "9c582ca1-dca0-49ac-90db-af73fdea5655",
   "metadata": {},
   "source": [
    "#### **This  notebook test for the correlation between perspective API and the open AI scores**"
   ]
  },
  {
   "cell_type": "code",
   "execution_count": 2,
   "id": "3e2d9666-8830-42c8-bd06-b1a510f3320f",
   "metadata": {},
   "outputs": [],
   "source": [
    "import pandas as pd"
   ]
  },
  {
   "cell_type": "code",
   "execution_count": 3,
   "id": "1ccff285-1772-49f4-81f6-a5c1eb5f9837",
   "metadata": {},
   "outputs": [],
   "source": [
    "df_open_ai_scores = pd.read_pickle(\n",
    "        './../data/scores/open_ai_scores.pkl.gz'\n",
    "    )"
   ]
  },
  {
   "cell_type": "code",
   "execution_count": 4,
   "id": "3325f9fc-e925-4518-90c1-9e01ba5e871a",
   "metadata": {},
   "outputs": [],
   "source": [
    "df_perspective = pd.read_pickle(\n",
    "        './../data/scores/perspective_api_scores.pkl.gz'\n",
    "    )"
   ]
  },
  {
   "cell_type": "code",
   "execution_count": 5,
   "id": "cfef382c-2d88-409d-83e7-edd34b15a0c8",
   "metadata": {},
   "outputs": [
    {
     "data": {
      "text/plain": [
       "Index(['harassment', 'harassment_threatening', 'hate', 'hate_threatening',\n",
       "       'illicit', 'illicit_violent', 'self_harm', 'self_harm_instructions',\n",
       "       'self_harm_intent', 'sexual', 'sexual_minors', 'violence',\n",
       "       'violence_graphic', 'linked_tweet', 'data_lang'],\n",
       "      dtype='object')"
      ]
     },
     "execution_count": 5,
     "metadata": {},
     "output_type": "execute_result"
    }
   ],
   "source": [
    "df_open_ai_scores.columns"
   ]
  },
  {
   "cell_type": "code",
   "execution_count": 6,
   "id": "27d04222-8b28-4f32-b78f-479c43f381e1",
   "metadata": {},
   "outputs": [
    {
     "data": {
      "text/plain": [
       "Index(['linked_tweet', 'data_annotations', 'user_id', 'creation_date',\n",
       "       'data_follower_count', 'data_following_count', 'data_id',\n",
       "       'data_imageUrls', 'data_lang', 'data_like_count', 'mentioned_users',\n",
       "       'data_name', 'data_retweet_count', 'data_screen_name', 'text',\n",
       "       'data_translatedContentText', 'tweet_id', 'tweet_type', 'urls',\n",
       "       'linked_tweet_user_id', 'hashtags', 'INSULT', 'THREAT', 'TOXICITY',\n",
       "       'SEVERE_TOXICITY', 'PROFANITY', 'IDENTITY_ATTACK'],\n",
       "      dtype='object')"
      ]
     },
     "execution_count": 6,
     "metadata": {},
     "output_type": "execute_result"
    }
   ],
   "source": [
    "df_perspective.columns"
   ]
  },
  {
   "cell_type": "markdown",
   "id": "dc3e6019-38fe-484f-a981-54747b0723fe",
   "metadata": {},
   "source": [
    "#### **Count of the retweets**"
   ]
  },
  {
   "cell_type": "code",
   "execution_count": 7,
   "id": "d42d9f63-ef82-46c0-827b-80ad3f9cb695",
   "metadata": {},
   "outputs": [],
   "source": [
    "df_rt_count = pd.read_pickle(\n",
    "    './../data/posts/retweet_count.pkl.gz'\n",
    ")"
   ]
  },
  {
   "cell_type": "code",
   "execution_count": 8,
   "id": "6c42722a-39e0-4960-a363-57f7b7e1af4e",
   "metadata": {},
   "outputs": [
    {
     "data": {
      "text/plain": [
       "1"
      ]
     },
     "execution_count": 8,
     "metadata": {},
     "output_type": "execute_result"
    }
   ],
   "source": [
    "df_rt_count['count'].min()"
   ]
  },
  {
   "cell_type": "code",
   "execution_count": 9,
   "id": "377624d8-8cdf-43e6-8029-bdec5850fd11",
   "metadata": {},
   "outputs": [],
   "source": [
    "df_rt_10 = df_rt_count.loc[df_rt_count['count']>10]"
   ]
  },
  {
   "cell_type": "code",
   "execution_count": 10,
   "id": "a9b56f2f-162d-46a3-936b-df0394722253",
   "metadata": {},
   "outputs": [
    {
     "data": {
      "text/plain": [
       "Index(['linked_tweet', 'count'], dtype='object')"
      ]
     },
     "execution_count": 10,
     "metadata": {},
     "output_type": "execute_result"
    }
   ],
   "source": [
    "df_rt_10.columns"
   ]
  },
  {
   "cell_type": "markdown",
   "id": "d8e4e3fd-e827-4d90-b0e0-962836e1b108",
   "metadata": {},
   "source": [
    "#### **Filter Scores**"
   ]
  },
  {
   "cell_type": "code",
   "execution_count": 11,
   "id": "326d1997-140f-4ff0-883a-d0aaa22c81cd",
   "metadata": {},
   "outputs": [],
   "source": [
    "df_open_10 = df_open_ai_scores.loc[\n",
    "    df_open_ai_scores['linked_tweet'].isin(df_rt_10['linked_tweet'])\n",
    "]"
   ]
  },
  {
   "cell_type": "code",
   "execution_count": 12,
   "id": "05a960bb-1c50-4506-ba04-148bf41081ea",
   "metadata": {},
   "outputs": [],
   "source": [
    "df_perspect_10 = df_perspective.loc[\n",
    "    df_perspective['linked_tweet'].isin(df_rt_10['linked_tweet'])\n",
    "]"
   ]
  },
  {
   "cell_type": "code",
   "execution_count": 13,
   "id": "23b81c02-800c-48e4-ab3c-3585ea780647",
   "metadata": {},
   "outputs": [
    {
     "data": {
      "text/plain": [
       "5171"
      ]
     },
     "execution_count": 13,
     "metadata": {},
     "output_type": "execute_result"
    }
   ],
   "source": [
    "len(df_open_10)"
   ]
  },
  {
   "cell_type": "code",
   "execution_count": 14,
   "id": "0fe31280-ab52-4c38-82e2-06bb48c8de0b",
   "metadata": {},
   "outputs": [
    {
     "data": {
      "text/plain": [
       "5171"
      ]
     },
     "execution_count": 14,
     "metadata": {},
     "output_type": "execute_result"
    }
   ],
   "source": [
    "len(df_perspect_10)"
   ]
  },
  {
   "cell_type": "markdown",
   "id": "095e3e03-3939-4dc7-be9f-bb96f6be7c15",
   "metadata": {},
   "source": [
    "#### **Correlation**"
   ]
  },
  {
   "cell_type": "code",
   "execution_count": 15,
   "id": "22e98435-2d4a-498e-9cfc-19815a5afba2",
   "metadata": {},
   "outputs": [],
   "source": [
    "perspective = ['INSULT', 'THREAT', 'TOXICITY',\n",
    "               'SEVERE_TOXICITY', 'PROFANITY',\n",
    "               'IDENTITY_ATTACK'\n",
    "              ]\n",
    "\n",
    "open_ai = ['harassment', \n",
    "            'harassment_threatening',\n",
    "            'hate', \n",
    "            'hate_threatening'\n",
    "           ]"
   ]
  },
  {
   "cell_type": "code",
   "execution_count": 16,
   "id": "8b6ad6e0-e4ac-4ca1-aa65-2800049a97e3",
   "metadata": {},
   "outputs": [],
   "source": [
    "df_common = df_open_10.merge(df_perspect_10,\n",
    "                             on='linked_tweet'\n",
    "                            )"
   ]
  },
  {
   "cell_type": "code",
   "execution_count": 17,
   "id": "895574d3-1e8a-4b6a-a0e4-b3c82c651cce",
   "metadata": {},
   "outputs": [],
   "source": [
    "df_common = df_common.loc[~df_common['INSULT'].isnull()]\n",
    "df_common = df_common.loc[~df_common['harassment'].isnull()]"
   ]
  },
  {
   "cell_type": "code",
   "execution_count": 18,
   "id": "523544b6-6a76-4188-991b-be4bbbdb0915",
   "metadata": {},
   "outputs": [],
   "source": [
    "# df_common.isnull().any()"
   ]
  },
  {
   "cell_type": "code",
   "execution_count": 19,
   "id": "1208c373-8561-4136-a07b-b442f80a628f",
   "metadata": {},
   "outputs": [],
   "source": [
    "import numpy as np\n",
    "from scipy import stats"
   ]
  },
  {
   "cell_type": "code",
   "execution_count": 20,
   "id": "c5e9edda-abad-45f8-9c86-f631540f862a",
   "metadata": {},
   "outputs": [
    {
     "name": "stdout",
     "output_type": "stream",
     "text": [
      "INSULT and harassment correlation : 0.7096531504720275\n",
      "INSULT and harassment correlation pvalue : 0.0\n",
      "INSULT and harassment_threatening correlation : 0.546247802813309\n",
      "INSULT and harassment_threatening correlation pvalue : 0.0\n",
      "INSULT and hate correlation : 0.7039120714719579\n",
      "INSULT and hate correlation pvalue : 0.0\n",
      "INSULT and hate_threatening correlation : 0.42978276711049845\n",
      "INSULT and hate_threatening correlation pvalue : 8.402444517331574e-230\n",
      "THREAT and harassment correlation : 0.4185218884174504\n",
      "THREAT and harassment correlation pvalue : 8.171249980085063e-217\n",
      "THREAT and harassment_threatening correlation : 0.7238954102681241\n",
      "THREAT and harassment_threatening correlation pvalue : 0.0\n",
      "THREAT and hate correlation : 0.49659602960498045\n",
      "THREAT and hate correlation pvalue : 0.0\n",
      "THREAT and hate_threatening correlation : 0.6763595242265018\n",
      "THREAT and hate_threatening correlation pvalue : 0.0\n",
      "TOXICITY and harassment correlation : 0.7177420853751065\n",
      "TOXICITY and harassment correlation pvalue : 0.0\n",
      "TOXICITY and harassment_threatening correlation : 0.6446926270026019\n",
      "TOXICITY and harassment_threatening correlation pvalue : 0.0\n",
      "TOXICITY and hate correlation : 0.7245330600322194\n",
      "TOXICITY and hate correlation pvalue : 0.0\n",
      "TOXICITY and hate_threatening correlation : 0.5308886211591223\n",
      "TOXICITY and hate_threatening correlation pvalue : 0.0\n",
      "SEVERE_TOXICITY and harassment correlation : 0.5557034159448094\n",
      "SEVERE_TOXICITY and harassment correlation pvalue : 0.0\n",
      "SEVERE_TOXICITY and harassment_threatening correlation : 0.6768234935068579\n",
      "SEVERE_TOXICITY and harassment_threatening correlation pvalue : 0.0\n",
      "SEVERE_TOXICITY and hate correlation : 0.6540861359961648\n",
      "SEVERE_TOXICITY and hate correlation pvalue : 0.0\n",
      "SEVERE_TOXICITY and hate_threatening correlation : 0.6157661963814339\n",
      "SEVERE_TOXICITY and hate_threatening correlation pvalue : 0.0\n",
      "PROFANITY and harassment correlation : 0.5820187375802927\n",
      "PROFANITY and harassment correlation pvalue : 0.0\n",
      "PROFANITY and harassment_threatening correlation : 0.5313794147338383\n",
      "PROFANITY and harassment_threatening correlation pvalue : 0.0\n",
      "PROFANITY and hate correlation : 0.6051276489185131\n",
      "PROFANITY and hate correlation pvalue : 0.0\n",
      "PROFANITY and hate_threatening correlation : 0.44836457530943985\n",
      "PROFANITY and hate_threatening correlation pvalue : 2.4235423775205874e-252\n",
      "IDENTITY_ATTACK and harassment correlation : 0.6997214500882674\n",
      "IDENTITY_ATTACK and harassment correlation pvalue : 0.0\n",
      "IDENTITY_ATTACK and harassment_threatening correlation : 0.633951127517138\n",
      "IDENTITY_ATTACK and harassment_threatening correlation pvalue : 0.0\n",
      "IDENTITY_ATTACK and hate correlation : 0.7227291833786444\n",
      "IDENTITY_ATTACK and hate correlation pvalue : 0.0\n",
      "IDENTITY_ATTACK and hate_threatening correlation : 0.5346597094804926\n",
      "IDENTITY_ATTACK and hate_threatening correlation pvalue : 0.0\n"
     ]
    }
   ],
   "source": [
    "all_values = []\n",
    "for x in perspective:\n",
    "    for y in open_ai:\n",
    "        spearman_corr, p_value = stats.spearmanr(df_common[x],\n",
    "                                                 df_common[y]\n",
    "                                                )\n",
    "        print(f'{x} and {y} correlation :', spearman_corr)\n",
    "        print(f'{x} and {y} correlation pvalue :', p_value)\n",
    "        all_values.append([x,y, round(spearman_corr,3)])\n",
    "\n",
    "df_corr = pd.DataFrame(data=all_values,\n",
    "                       columns=['x','y','correlation']\n",
    "                      )"
   ]
  },
  {
   "cell_type": "code",
   "execution_count": 21,
   "id": "1253936b-8430-4945-bf45-1befb3699cbe",
   "metadata": {},
   "outputs": [],
   "source": [
    "def correlation_heatmap(df, file_path=None):\n",
    "    import pandas as pd\n",
    "    import seaborn as sns\n",
    "    import matplotlib.pyplot as plt\n",
    "    \n",
    "    # Create a pivot table\n",
    "    corr_matrix = df.pivot(index='x', \n",
    "                           columns='y', \n",
    "                           values='correlation'\n",
    "                          )\n",
    "    \n",
    "    # Make the matrix symmetrical\n",
    "    # corr_matrix = corr_matrix.combine_first(corr_matrix.T)\n",
    "    \n",
    "    # Plot the heatmap\n",
    "    fig, ax = plt.subplots(figsize=(10, 10))\n",
    "    sns.heatmap(corr_matrix,\n",
    "                annot=True, \n",
    "                cmap='coolwarm', \n",
    "                # linewidths=0.5,\n",
    "                ax=ax\n",
    "               )\n",
    "\n",
    "    plt.tick_params(axis='both', which='major', labelsize=14)\n",
    "    ax.set_xlabel('Open AI scores', fontsize=24)\n",
    "    ax.set_ylabel('Perspective', fontsize=24)\n",
    "    \n",
    "    \n",
    "    \n",
    "    fig.tight_layout()\n",
    "\n",
    "    if file_path != None:\n",
    "        fig.savefig(f'{file_path}', \n",
    "                  facecolor='white', \n",
    "                  transparent=False\n",
    "                   )\n",
    "    \n",
    "    plt.show()"
   ]
  },
  {
   "cell_type": "code",
   "execution_count": 22,
   "id": "5b9a5473-0c90-4783-8b32-355208b19315",
   "metadata": {},
   "outputs": [
    {
     "data": {
      "image/png": "[encoded data removed]",
      "text/plain": [
       "<Figure size 1000x1000 with 2 Axes>"
      ]
     },
     "metadata": {},
     "output_type": "display_data"
    }
   ],
   "source": [
    "correlation_heatmap(df_corr)"
   ]
  },
  {
   "cell_type": "code",
   "execution_count": null,
   "id": "13f4250e-6c10-4d4a-b91e-9712d2020bfd",
   "metadata": {},
   "outputs": [],
   "source": []
  }
 ],
 "metadata": {
  "kernelspec": {
   "display_name": "Python 3 (ipykernel)",
   "language": "python",
   "name": "python3"
  },
  "language_info": {
   "codemirror_mode": {
    "name": "ipython",
    "version": 3
   },
   "file_extension": ".py",
   "mimetype": "text/x-python",
   "name": "python",
   "nbconvert_exporter": "python",
   "pygments_lexer": "ipython3",
   "version": "3.12.2"
  }
 },
 "nbformat": 4,
 "nbformat_minor": 5
}
