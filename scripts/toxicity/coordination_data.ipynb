{
 "cells": [
  {
   "cell_type": "markdown",
   "id": "4d8760cd-140c-49b8-a0a6-e961cebff604",
   "metadata": {},
   "source": [
    "#### **This notebook checks for the retweet coordination**"
   ]
  },
  {
   "cell_type": "code",
   "execution_count": 2,
   "id": "04822580-a894-4281-9fd6-a59224f1ff26",
   "metadata": {},
   "outputs": [],
   "source": [
    "import xnetwork as xn # pip install xnetwork"
   ]
  },
  {
   "cell_type": "code",
   "execution_count": 3,
   "id": "6c674d56-cd08-4648-8503-120bedcf4d78",
   "metadata": {},
   "outputs": [],
   "source": [
    "networkFilename = './data/coordination/hamas_israel_challenge_merged_softunion_coretweet_community.xnet'\n",
    "g = xn.load(networkFilename)"
   ]
  },
  {
   "cell_type": "code",
   "execution_count": 6,
   "id": "9f89d0a8-4118-4fb7-9feb-20a3a7724cf9",
   "metadata": {},
   "outputs": [
    {
     "name": "stdout",
     "output_type": "stream",
     "text": [
      "[]\n",
      "['CommunityEdgesAvg_weight', 'CommunityEdgesCount', 'CommunityEdgesDensity', 'CommunityIndex', 'CommunityLabel', 'CommunitySize', 'Label', 'left_degree']\n"
     ]
    }
   ],
   "source": [
    "print(g.attributes())\n",
    "print(g.vs.attributes())\n"
   ]
  },
  {
   "cell_type": "code",
   "execution_count": 7,
   "id": "2d8c72a8-5bd9-4405-8458-ae649a327605",
   "metadata": {},
   "outputs": [
    {
     "name": "stdout",
     "output_type": "stream",
     "text": [
      "0\n",
      "13.0\n",
      "0004e3f6c40ec8f3d13a2311481c1e5f\n",
      "14.0\n"
     ]
    }
   ],
   "source": [
    "print(g.vs[0]['CommunityLabel'])\n",
    "print(g.vs[0]['CommunitySize'])\n",
    "print(g.vs[0]['Label'])\n",
    "print(g.vs[0]['left_degree'])"
   ]
  },
  {
   "cell_type": "code",
   "execution_count": 8,
   "id": "f422ed80-2bc7-4f86-bcfd-ad6205ebb6f7",
   "metadata": {},
   "outputs": [
    {
     "name": "stdout",
     "output_type": "stream",
     "text": [
      "['weight', 'quantile']\n"
     ]
    }
   ],
   "source": [
    "print(g.es.attributes())\n"
   ]
  },
  {
   "cell_type": "code",
   "execution_count": 11,
   "id": "6ad12472-4e53-44fb-aa09-fdf1c6bbe6f2",
   "metadata": {},
   "outputs": [
    {
     "data": {
      "text/plain": [
       "1501"
      ]
     },
     "execution_count": 11,
     "metadata": {},
     "output_type": "execute_result"
    }
   ],
   "source": [
    "communities = set(g.vs['CommunityLabel'])\n",
    "len(communities)"
   ]
  },
  {
   "cell_type": "code",
   "execution_count": 13,
   "id": "bab96bcc-26fc-4f8c-9c66-075e3f1a792c",
   "metadata": {},
   "outputs": [
    {
     "data": {
      "text/plain": [
       "1.0"
      ]
     },
     "execution_count": 13,
     "metadata": {},
     "output_type": "execute_result"
    }
   ],
   "source": [
    "max_weight = max(g.es['quantile'])\n",
    "max_weight"
   ]
  },
  {
   "cell_type": "code",
   "execution_count": 14,
   "id": "3c3ac503-97d4-4865-a05f-a7ba1e1c579d",
   "metadata": {},
   "outputs": [
    {
     "name": "stdout",
     "output_type": "stream",
     "text": [
      "Number of nodes in the graph: 27328\n"
     ]
    }
   ],
   "source": [
    "number_of_nodes = g.vcount()\n",
    "\n",
    "print(\"Number of nodes in the graph:\", number_of_nodes)"
   ]
  },
  {
   "cell_type": "code",
   "execution_count": null,
   "id": "f4910d89-703c-41a2-8052-902ce2edc5bc",
   "metadata": {},
   "outputs": [],
   "source": []
  }
 ],
 "metadata": {
  "kernelspec": {
   "display_name": "Python 3 (ipykernel)",
   "language": "python",
   "name": "python3"
  },
  "language_info": {
   "codemirror_mode": {
    "name": "ipython",
    "version": 3
   },
   "file_extension": ".py",
   "mimetype": "text/x-python",
   "name": "python",
   "nbconvert_exporter": "python",
   "pygments_lexer": "ipython3",
   "version": "3.12.2"
  }
 },
 "nbformat": 4,
 "nbformat_minor": 5
}
